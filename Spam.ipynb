{
  "nbformat": 4,
  "nbformat_minor": 0,
  "metadata": {
    "colab": {
      "provenance": [],
      "authorship_tag": "ABX9TyMosbLcsFKF7jmEGeqoi76W",
      "include_colab_link": true
    },
    "kernelspec": {
      "name": "python3",
      "display_name": "Python 3"
    },
    "language_info": {
      "name": "python"
    }
  },
  "cells": [
    {
      "cell_type": "markdown",
      "metadata": {
        "id": "view-in-github",
        "colab_type": "text"
      },
      "source": [
        "<a href=\"https://colab.research.google.com/github/Swa-hub/Spam_Filtering/blob/main/Spam.ipynb\" target=\"_parent\"><img src=\"https://colab.research.google.com/assets/colab-badge.svg\" alt=\"Open In Colab\"/></a>"
      ]
    },
    {
      "cell_type": "code",
      "execution_count": 2,
      "metadata": {
        "id": "QRbTx2wtdlyV"
      },
      "outputs": [],
      "source": [
        "import pandas as pd\n",
        "import numpy as np\n",
        "import matplotlib.pyplot as plt\n",
        "from sklearn.feature_extraction.text import CountVectorizer\n",
        "from sklearn.manifold import TSNE\n",
        "from sklearn.preprocessing import LabelEncoder\n",
        "from sklearn.model_selection import train_test_split\n",
        "from sklearn.linear_model import LogisticRegression\n",
        "from sklearn.naive_bayes import MultinomialNB\n",
        "from sklearn.svm import SVC\n",
        "from sklearn.metrics import accuracy_score,precision_score,recall_score,f1_score,confusion_matrix,classification_report"
      ]
    },
    {
      "cell_type": "code",
      "source": [
        "df1=pd.read_csv(\"/content/spam.csv\",encoding='iso-8859-1')\n",
        "\n",
        "df1.to_csv(\"/content/spam_utf8.csv\", encoding='utf-8', index=False)\n",
        "\n",
        "# Read the new UTF-8 encoded file\n",
        "df1= pd.read_csv(\"/content/spam_utf8.csv\")\n",
        "print(df1.head())"
      ],
      "metadata": {
        "colab": {
          "base_uri": "https://localhost:8080/"
        },
        "id": "eeavh4dXd0PI",
        "outputId": "81c39360-aa81-4155-a2b3-ffaf3aa952a6"
      },
      "execution_count": 3,
      "outputs": [
        {
          "output_type": "stream",
          "name": "stdout",
          "text": [
            "     v1                                                 v2 Unnamed: 2  \\\n",
            "0   ham  Go until jurong point, crazy.. Available only ...        NaN   \n",
            "1   ham                      Ok lar... Joking wif u oni...        NaN   \n",
            "2  spam  Free entry in 2 a wkly comp to win FA Cup fina...        NaN   \n",
            "3   ham  U dun say so early hor... U c already then say...        NaN   \n",
            "4   ham  Nah I don't think he goes to usf, he lives aro...        NaN   \n",
            "\n",
            "  Unnamed: 3 Unnamed: 4  \n",
            "0        NaN        NaN  \n",
            "1        NaN        NaN  \n",
            "2        NaN        NaN  \n",
            "3        NaN        NaN  \n",
            "4        NaN        NaN  \n"
          ]
        }
      ]
    },
    {
      "cell_type": "code",
      "source": [
        "X=df1['v2']#all featues except target variable\n",
        "X_arr=np.array(X)\n",
        "corpus=X_arr\n",
        "print(corpus)"
      ],
      "metadata": {
        "colab": {
          "base_uri": "https://localhost:8080/"
        },
        "id": "y36u3DVLbPHd",
        "outputId": "dd2b8637-b6e3-4a34-e71d-251ac4e5e358"
      },
      "execution_count": 4,
      "outputs": [
        {
          "output_type": "stream",
          "name": "stdout",
          "text": [
            "['Go until jurong point, crazy.. Available only in bugis n great world la e buffet... Cine there got amore wat...'\n",
            " 'Ok lar... Joking wif u oni...'\n",
            " \"Free entry in 2 a wkly comp to win FA Cup final tkts 21st May 2005. Text FA to 87121 to receive entry question(std txt rate)T&C's apply 08452810075over18's\"\n",
            " ... 'Pity, * was in mood for that. So...any other suggestions?'\n",
            " \"The guy did some bitching but I acted like i'd be interested in buying something else next week and he gave it to us for free\"\n",
            " 'Rofl. Its true to its name']\n"
          ]
        }
      ]
    },
    {
      "cell_type": "code",
      "source": [
        "y=df1['v1'] #target variable\n",
        "\n",
        "vectorizer=CountVectorizer()\n",
        "X_vec=vectorizer.fit_transform(corpus)  #matrix\n",
        "\n",
        "print(vectorizer.get_feature_names_out())   #get list of unique words in vocabulary\n",
        "print(X_vec.toarray())\n",
        "\n",
        "le=LabelEncoder()\n",
        "y=le.fit_transform(y)\n",
        "print(le.classes_)\n",
        "\n",
        "X_train,X_test,y_train,y_test=train_test_split(X_vec,y,test_size=0.2,random_state=42)\n",
        "print(\"Training set shape:\", X_train.shape, y_train.shape)\n",
        "print(\"Testing set shape:\", X_test.shape, y_test.shape)"
      ],
      "metadata": {
        "colab": {
          "base_uri": "https://localhost:8080/"
        },
        "id": "9j7Kerf-fEOV",
        "outputId": "8e2085bd-f5d2-4562-c84f-b09f5533eb81"
      },
      "execution_count": 5,
      "outputs": [
        {
          "output_type": "stream",
          "name": "stdout",
          "text": [
            "['00' '000' '000pes' ... 'ûïharry' 'ûò' 'ûówell']\n",
            "[[0 0 0 ... 0 0 0]\n",
            " [0 0 0 ... 0 0 0]\n",
            " [0 0 0 ... 0 0 0]\n",
            " ...\n",
            " [0 0 0 ... 0 0 0]\n",
            " [0 0 0 ... 0 0 0]\n",
            " [0 0 0 ... 0 0 0]]\n",
            "['ham' 'spam']\n",
            "Training set shape: (4457, 8672) (4457,)\n",
            "Testing set shape: (1115, 8672) (1115,)\n"
          ]
        }
      ]
    },
    {
      "cell_type": "code",
      "source": [
        "tsne=TSNE(n_components=2,random_state=42,init='random')\n",
        "X_tsne=tsne.fit_transform(X_vec)\n",
        "\n",
        "\n",
        "plt.scatter(X_tsne[y == 0, 0], X_tsne[y == 0, 1], c='pink', cmap='viridis', label='Ham')\n",
        "plt.scatter(X_tsne[y == 1, 0], X_tsne[y == 1, 1], c='blue', cmap='viridis', label='Spam')\n",
        "plt.title('Spam vs Ham')\n",
        "plt.xlabel('v2')\n",
        "plt.ylabel('v1')\n",
        "plt.legend()\n",
        "plt.show()"
      ],
      "metadata": {
        "colab": {
          "base_uri": "https://localhost:8080/",
          "height": 544
        },
        "id": "0qD7SjsTyErj",
        "outputId": "37940a7a-f6d6-4042-99a8-3aa0538a4c00"
      },
      "execution_count": 6,
      "outputs": [
        {
          "output_type": "stream",
          "name": "stderr",
          "text": [
            "<ipython-input-6-7c77c484acef>:5: UserWarning: No data for colormapping provided via 'c'. Parameters 'cmap' will be ignored\n",
            "  plt.scatter(X_tsne[y == 0, 0], X_tsne[y == 0, 1], c='pink', cmap='viridis', label='Ham')\n",
            "<ipython-input-6-7c77c484acef>:6: UserWarning: No data for colormapping provided via 'c'. Parameters 'cmap' will be ignored\n",
            "  plt.scatter(X_tsne[y == 1, 0], X_tsne[y == 1, 1], c='blue', cmap='viridis', label='Spam')\n"
          ]
        },
        {
          "output_type": "display_data",
          "data": {
            "text/plain": [
              "<Figure size 640x480 with 1 Axes>"
            ],
            "image/png": "[encoded data removed]"
          },
          "metadata": {}
        }
      ]
    },
    {
      "cell_type": "markdown",
      "source": [
        "**Model-1**"
      ],
      "metadata": {
        "id": "FG57ntPL6KDJ"
      }
    },
    {
      "cell_type": "code",
      "source": [
        "logistic_model=LogisticRegression()\n",
        "logistic_model.fit(X_train,y_train)\n",
        "\n",
        "y_pred=logistic_model.predict(X_test)\n",
        "print(\"Accuracy:\",accuracy_score(y_test,y_pred))\n",
        "print(\"Precision:\",precision_score(y_test,y_pred))\n",
        "print(\"Recall:\",recall_score(y_test,y_pred))\n",
        "print(\"F1 score:\",f1_score(y_test,y_pred))"
      ],
      "metadata": {
        "colab": {
          "base_uri": "https://localhost:8080/"
        },
        "id": "vaGWLtaRgJ4N",
        "outputId": "3c14a8d7-f0b1-4af5-f217-ab224c385ae5"
      },
      "execution_count": 7,
      "outputs": [
        {
          "output_type": "stream",
          "name": "stdout",
          "text": [
            "Accuracy: 0.97847533632287\n",
            "Precision: 1.0\n",
            "Recall: 0.84\n",
            "F1 score: 0.9130434782608696\n"
          ]
        }
      ]
    },
    {
      "cell_type": "code",
      "source": [
        "pred=\"HEYY BUDDY!!!Congracts YOU won a jackpot.Click the link below to collect ur money\"\n",
        "y_pred=logistic_model.predict(vectorizer.transform([pred]))\n",
        "print(y_pred)"
      ],
      "metadata": {
        "colab": {
          "base_uri": "https://localhost:8080/"
        },
        "id": "F5va8dRJtZqJ",
        "outputId": "eec6cd57-5b88-490f-a770-d360cd816340"
      },
      "execution_count": 8,
      "outputs": [
        {
          "output_type": "stream",
          "name": "stdout",
          "text": [
            "[0]\n"
          ]
        }
      ]
    },
    {
      "cell_type": "markdown",
      "source": [
        "**Model-2**"
      ],
      "metadata": {
        "id": "94A_qiho6PR6"
      }
    },
    {
      "cell_type": "code",
      "source": [
        "nb_classifier=MultinomialNB()\n",
        "\n",
        "nb_classifier.fit(X_train,y_train)\n",
        "nb_y_pred=nb_classifier.predict(X_test)"
      ],
      "metadata": {
        "id": "h_cx7GV-l4dx"
      },
      "execution_count": 9,
      "outputs": []
    },
    {
      "cell_type": "code",
      "source": [
        "accuracy=accuracy_score(y_test,nb_y_pred)\n",
        "print(\"Accuracy: \",accuracy)\n",
        "print(\"Precision:\",precision_score(y_test,nb_y_pred))\n",
        "print(\"Recall:\",recall_score(y_test,nb_y_pred))\n",
        "print(\"F1 score:\",f1_score(y_test,nb_y_pred))\n",
        "# Classification Report (precision, recall, F1-score)\n",
        "print(classification_report(y_test,nb_y_pred))"
      ],
      "metadata": {
        "colab": {
          "base_uri": "https://localhost:8080/"
        },
        "id": "XuqNA8WImg_-",
        "outputId": "98f69227-8c75-4f39-e9c9-1bc476fd8468"
      },
      "execution_count": 10,
      "outputs": [
        {
          "output_type": "stream",
          "name": "stdout",
          "text": [
            "Accuracy:  0.97847533632287\n",
            "Precision: 0.9144736842105263\n",
            "Recall: 0.9266666666666666\n",
            "F1 score: 0.9205298013245033\n",
            "              precision    recall  f1-score   support\n",
            "\n",
            "           0       0.99      0.99      0.99       965\n",
            "           1       0.91      0.93      0.92       150\n",
            "\n",
            "    accuracy                           0.98      1115\n",
            "   macro avg       0.95      0.96      0.95      1115\n",
            "weighted avg       0.98      0.98      0.98      1115\n",
            "\n"
          ]
        }
      ]
    },
    {
      "cell_type": "code",
      "source": [
        "pred=\"HEYY BUDDY!!!Congracts YOU won a jackpot.Click the link below to collect ur money\"\n",
        "y_pred1=nb_classifier.predict(vectorizer.transform([pred]))\n",
        "print(y_pred1)\n",
        "predicted_label=le.inverse_transform(y_pred1)[0]\n",
        "print(predicted_label)"
      ],
      "metadata": {
        "colab": {
          "base_uri": "https://localhost:8080/"
        },
        "id": "242FzAPanV-X",
        "outputId": "97f38ee2-18ea-4293-cfc1-230887f4d9a4"
      },
      "execution_count": 11,
      "outputs": [
        {
          "output_type": "stream",
          "name": "stdout",
          "text": [
            "[1]\n",
            "spam\n"
          ]
        }
      ]
    },
    {
      "cell_type": "code",
      "source": [
        "pred1=\"Important Meeting\"\n",
        "y_pred2=nb_classifier.predict(vectorizer.transform([pred1]))\n",
        "print(y_pred2)\n",
        "predicted_label=le.inverse_transform(y_pred2)[0]\n",
        "print(predicted_label)"
      ],
      "metadata": {
        "colab": {
          "base_uri": "https://localhost:8080/"
        },
        "id": "fuTm1aOinxOD",
        "outputId": "ff4638a9-ada1-43b5-aeb2-596d951ba52b"
      },
      "execution_count": 12,
      "outputs": [
        {
          "output_type": "stream",
          "name": "stdout",
          "text": [
            "[0]\n",
            "ham\n"
          ]
        }
      ]
    },
    {
      "cell_type": "markdown",
      "source": [
        "**Model-3**"
      ],
      "metadata": {
        "id": "WOryV0ibeSaS"
      }
    },
    {
      "cell_type": "code",
      "source": [
        "svm_classifier=SVC()\n",
        "svm_classifier.fit(X_train,y_train)\n",
        "\n",
        "svm_pred=svm_classifier.predict(X_test)\n",
        "print(\"Accuracy:\",accuracy_score(y_test,svm_pred))\n",
        "print(\"Precision:\",precision_score(y_test,svm_pred))\n",
        "print(\"Recall:\",recall_score(y_test,svm_pred))\n",
        "print(\"F1 score:\",f1_score(y_test,svm_pred))\n",
        "print(classification_report(y_test,svm_pred))"
      ],
      "metadata": {
        "colab": {
          "base_uri": "https://localhost:8080/"
        },
        "id": "XoFzc2pbdp5V",
        "outputId": "01819efb-1dae-4cba-e003-97732e5ac41b"
      },
      "execution_count": 16,
      "outputs": [
        {
          "output_type": "stream",
          "name": "stdout",
          "text": [
            "Accuracy: 0.97847533632287\n",
            "Precision: 1.0\n",
            "Recall: 0.84\n",
            "F1 score: 0.9130434782608696\n",
            "              precision    recall  f1-score   support\n",
            "\n",
            "           0       0.98      1.00      0.99       965\n",
            "           1       1.00      0.84      0.91       150\n",
            "\n",
            "    accuracy                           0.98      1115\n",
            "   macro avg       0.99      0.92      0.95      1115\n",
            "weighted avg       0.98      0.98      0.98      1115\n",
            "\n"
          ]
        }
      ]
    },
    {
      "cell_type": "code",
      "source": [
        "pred_v=\"HEYY BUDDY!!!Congracts YOU won a jackpot.Click the link below to collect ur money\"\n",
        "y_pred2=svm_classifier.predict(vectorizer.transform([pred_v]))\n",
        "print(y_pred2)\n",
        "predicted_label2=le.inverse_transform(y_pred2)[0]\n",
        "print(predicted_label2)"
      ],
      "metadata": {
        "colab": {
          "base_uri": "https://localhost:8080/"
        },
        "id": "fxwSJvWsgBRJ",
        "outputId": "242953ad-6c35-4e88-ec00-65fdef16686d"
      },
      "execution_count": 17,
      "outputs": [
        {
          "output_type": "stream",
          "name": "stdout",
          "text": [
            "[0]\n",
            "ham\n"
          ]
        }
      ]
    },
    {
      "cell_type": "code",
      "source": [
        "pred_s=\"Important Meeting\"\n",
        "y_pred3=svm_classifier.predict(vectorizer.transform([pred_s]))\n",
        "print(y_pred3)\n",
        "predicted_label3=le.inverse_transform(y_pred3)[0]\n",
        "print(predicted_label3)"
      ],
      "metadata": {
        "colab": {
          "base_uri": "https://localhost:8080/"
        },
        "id": "QdJJvc-QgV9x",
        "outputId": "61a4296a-29d7-4164-9760-ad22c1117cd5"
      },
      "execution_count": 18,
      "outputs": [
        {
          "output_type": "stream",
          "name": "stdout",
          "text": [
            "[0]\n",
            "ham\n"
          ]
        }
      ]
    }
  ]
}